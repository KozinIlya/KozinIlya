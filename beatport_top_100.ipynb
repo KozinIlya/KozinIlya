{
  "nbformat": 4,
  "nbformat_minor": 0,
  "metadata": {
    "colab": {
      "name": "beatport_top_100.ipynb",
      "provenance": [],
      "authorship_tag": "ABX9TyOwG2/aejyIKeGmcSVBbNhQ",
      "include_colab_link": true
    },
    "kernelspec": {
      "name": "python3",
      "display_name": "Python 3"
    },
    "language_info": {
      "name": "python"
    }
  },
  "cells": [
    {
      "cell_type": "markdown",
      "metadata": {
        "id": "view-in-github",
        "colab_type": "text"
      },
      "source": [
        "<a href=\"https://colab.research.google.com/github/KozinIlya/KozinIlya/blob/main/beatport_top_100.ipynb\" target=\"_parent\"><img src=\"https://colab.research.google.com/assets/colab-badge.svg\" alt=\"Open In Colab\"/></a>"
      ]
    },
    {
      "cell_type": "markdown",
      "source": [
        "# Получение данных от beatport"
      ],
      "metadata": {
        "id": "naq4gXIOrLqS"
      }
    },
    {
      "cell_type": "code",
      "source": [
        "from bs4 import BeautifulSoup  \n",
        "import pandas as pd  \n",
        "import numpy as np\n",
        "import requests\n",
        "import time\n",
        "from google.colab import drive\n",
        "drive.mount('drive', force_remount=True)  "
      ],
      "metadata": {
        "colab": {
          "base_uri": "https://localhost:8080/"
        },
        "id": "Yg-URK2o-fZu",
        "outputId": "06939495-7215-4d4d-8207-464da89f4eb7"
      },
      "execution_count": 1,
      "outputs": [
        {
          "output_type": "stream",
          "name": "stdout",
          "text": [
            "Mounted at drive\n"
          ]
        }
      ]
    },
    {
      "cell_type": "code",
      "source": [
        "url = 'https://www.beatport.com/top-100-releases'\n",
        "request = requests.get(url)\n",
        "soup = BeautifulSoup(request.text, 'html.parser') \n",
        "request"
      ],
      "metadata": {
        "colab": {
          "base_uri": "https://localhost:8080/"
        },
        "id": "qMuUutG7-o0E",
        "outputId": "09ccd02a-8188-40e0-ba96-e01e0f1c7601"
      },
      "execution_count": 2,
      "outputs": [
        {
          "output_type": "execute_result",
          "data": {
            "text/plain": [
              "<Response [200]>"
            ]
          },
          "metadata": {},
          "execution_count": 2
        }
      ]
    },
    {
      "cell_type": "code",
      "source": [
        "def fun(s):\n",
        "  t = s.find_all('li',class_=\"bucket-item ec-item horz-release\")\n",
        "  title_top100 = []\n",
        "  position_top100 = []\n",
        "  lable_top100 = []\n",
        "  link_top100 = []\n",
        "\n",
        "  for i in t:\n",
        "    title = i.find('p', class_ = 'buk-horz-release-title').text\n",
        "    position = i.find('p', class_=\"buk-horz-release-num\").text\n",
        "    lable = i.find('p', class_=\"buk-horz-release-labels\").text\n",
        "    link = i.find('a', href=True)['href']\n",
        "    \n",
        "    title_top100.append(title)\n",
        "    position_top100.append(position)\n",
        "    lable_top100.append(lable)\n",
        "    link_top100.append(link)\n",
        "  s = {position:position_top100,title:title_top100,lable:lable_top100,link:link_top100}\n",
        "  df = pd.DataFrame(s)\n",
        "  df.columns=['position','title','lable','link']\n",
        "  df['lable'] = df['lable'].str.replace(\"\\n\",\"\")\n",
        "  df.set_index('position')\n",
        "  return df"
      ],
      "metadata": {
        "id": "dmwmX_5xErOC"
      },
      "execution_count": 3,
      "outputs": []
    },
    {
      "cell_type": "code",
      "source": [
        "while request.status_code != 200:\n",
        "  time.sleep(60)\n",
        "  print('sleep')\n",
        "df = fun(soup) "
      ],
      "metadata": {
        "id": "M1IVnHLps-Gy"
      },
      "execution_count": 4,
      "outputs": []
    },
    {
      "cell_type": "markdown",
      "source": [
        "#Сравнение\n"
      ],
      "metadata": {
        "id": "O6d2C6OltNv1"
      }
    },
    {
      "cell_type": "code",
      "source": [
        "! gdown --id '1DeNBPMBrO5w4eBgKL7yMfCCkEmXOcdRr'\n",
        "df_old = pd.read_csv('/content/Beatport_top100_releases.csv')\n",
        "\n",
        "df_old = df_old.drop(labels=[1,2,3], axis=0)\n",
        "df_old.columns = (['Unnamed: 0','position_old','title','lable','link'])\n",
        "df_old.info()"
      ],
      "metadata": {
        "colab": {
          "base_uri": "https://localhost:8080/"
        },
        "id": "6brdFbwGtLcs",
        "outputId": "ee5627cc-bab7-4b8e-dbb9-ced02af2e182"
      },
      "execution_count": 5,
      "outputs": [
        {
          "output_type": "stream",
          "name": "stdout",
          "text": [
            "/usr/local/lib/python3.7/dist-packages/gdown/cli.py:131: FutureWarning: Option `--id` was deprecated in version 4.3.1 and will be removed in 5.0. You don't need to pass it anymore to use a file ID.\n",
            "  category=FutureWarning,\n",
            "Downloading...\n",
            "From: https://drive.google.com/uc?id=1DeNBPMBrO5w4eBgKL7yMfCCkEmXOcdRr\n",
            "To: /content/Beatport_top100_releases.csv\n",
            "100% 7.14k/7.14k [00:00<00:00, 11.8MB/s]\n",
            "<class 'pandas.core.frame.DataFrame'>\n",
            "Int64Index: 97 entries, 0 to 99\n",
            "Data columns (total 5 columns):\n",
            " #   Column        Non-Null Count  Dtype \n",
            "---  ------        --------------  ----- \n",
            " 0   Unnamed: 0    97 non-null     int64 \n",
            " 1   position_old  97 non-null     int64 \n",
            " 2   title         97 non-null     object\n",
            " 3   lable         97 non-null     object\n",
            " 4   link          97 non-null     object\n",
            "dtypes: int64(2), object(3)\n",
            "memory usage: 4.5+ KB\n"
          ]
        }
      ]
    },
    {
      "cell_type": "code",
      "source": [
        "new_releases_df = df.merge(df_old, how='left', on = ['title','lable','link'], indicator=True)\\\n",
        "                  .query(\"_merge == 'left_only'\")\\\n",
        "                  .drop(['_merge','Unnamed: 0','position_old'], axis=1)\n",
        "\n"
      ],
      "metadata": {
        "id": "YJpKgve3wUbu"
      },
      "execution_count": 6,
      "outputs": []
    },
    {
      "cell_type": "code",
      "source": [
        "n = 0\n",
        "\n",
        "for index, row in new_releases_df.iterrows():\n",
        "  t = row['title']\n",
        "  l = row['lable']\n",
        "  p = row['position']\n",
        "  li = 'https://www.beatport.com'+ row['link']\n",
        "  n = n + 1\n",
        "  print(f\"Название:        {t}\\nЛейбл:          {l}\\nМесто в Топ100:    {p}\\nСсылка: {li}\\n\\n\\n\")\n",
        "\n",
        "if n >0:\n",
        "  df.to_csv('Beatport_top100_releases.csv')\n",
        "  !cp Beatport_top100_releases.csv \"drive/My Drive/\"\n"
      ],
      "metadata": {
        "colab": {
          "base_uri": "https://localhost:8080/"
        },
        "id": "x-hPQ5_aCqxo",
        "outputId": "02108b31-d859-47ab-d842-9a1661538d4e"
      },
      "execution_count": 7,
      "outputs": [
        {
          "output_type": "stream",
          "name": "stdout",
          "text": [
            "Название:        Toolroom Ibiza 2022 Vol. 2\n",
            "Лейбл:          Toolroom\n",
            "Место в Топ100:    2\n",
            "Ссылка: https://www.beatport.com/release/toolroom-ibiza-2022-vol-2/3802318\n",
            "\n",
            "\n",
            "\n",
            "Название:        Something\n",
            "Лейбл:          STMPD RCRDS B.V. / Tomorrowland Music\n",
            "Место в Топ100:    3\n",
            "Ссылка: https://www.beatport.com/release/something/3824527\n",
            "\n",
            "\n",
            "\n",
            "Название:        Summer Sampler 2022\n",
            "Лейбл:          All Day I Dream \n",
            "Место в Топ100:    4\n",
            "Ссылка: https://www.beatport.com/release/summer-sampler-2022/3816126\n",
            "\n",
            "\n",
            "\n"
          ]
        }
      ]
    },
    {
      "cell_type": "code",
      "source": [
        ""
      ],
      "metadata": {
        "id": "k-uzBf2y81j8"
      },
      "execution_count": 7,
      "outputs": []
    }
  ]
}